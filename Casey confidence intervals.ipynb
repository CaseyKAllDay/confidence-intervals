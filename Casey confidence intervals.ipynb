{
 "cells": [
  {
   "cell_type": "code",
   "execution_count": 4,
   "metadata": {},
   "outputs": [],
   "source": [
    "# Use the following data for this assignment:\n",
    "\n",
    "import pandas as pd\n",
    "import numpy as np\n",
    "import matplotlib.pyplot as plt\n",
    "import math\n",
    "from scipy import stats\n",
    "\n",
    "%matplotlib inline\n",
    "\n",
    "np.random.seed(12345)\n",
    "\n",
    "df = pd.DataFrame([np.random.normal(32000,200000,3650), \n",
    "                   np.random.normal(43000,100000,3650), \n",
    "                   np.random.normal(43500,140000,3650), \n",
    "                   np.random.normal(48000,70000,3650)], \n",
    "                  index=[1992,1993,1994,1995])\n",
    "#df\n",
    "\n",
    "values = df.T.mean(axis=0)\n",
    "std = df.T.std(axis=0)\n",
    "conf95 = std/math.sqrt(sampSize) * stats.t.ppf(1-.05/2, degFree)\n",
    "# print(values)\n",
    "# print(std)\n",
    "confRange92 = [values.iloc[0]+conf95.iloc[0], values.iloc[0]-conf95.iloc[0]]\n",
    "confRange93 = [values.iloc[1]+conf95.iloc[1], values.iloc[1]-conf95.iloc[1]]\n",
    "confRange94 = [values.iloc[2]+conf95.iloc[2], values.iloc[2]-conf95.iloc[2]]\n",
    "confRange95 = [values.iloc[3]+conf95.iloc[3], values.iloc[3]-conf95.iloc[3]]\n",
    "myRanges = [confRange92, confRange93, confRange94, confRange95]\n"
   ]
  },
  {
   "cell_type": "code",
   "execution_count": 8,
   "metadata": {
    "scrolled": true
   },
   "outputs": [
    {
     "name": "stdout",
     "output_type": "stream",
     "text": [
      "Please enter y value to check against ->: 42000\n"
     ]
    },
    {
     "data": {
      "image/png": "[encoded data removed]",
      "text/plain": [
       "<matplotlib.figure.Figure at 0x1c99c967630>"
      ]
     },
     "metadata": {},
     "output_type": "display_data"
    }
   ],
   "source": [
    "userInp = int(input('Please enter y value to check against ->: '))\n",
    "colors = ['Blue', 'White', 'Red']\n",
    "y_pos = np.arange(4)\n",
    "years = [\"1992\",\"1993\",\"1994\",\"1995\"]\n",
    "sampSize = df.shape[1]\n",
    "degFree = df.shape[1]-1\n",
    "fig, ax = plt.subplots()\n",
    "ax.set_xticks(y_pos)\n",
    "ax.set_xticklabels(years)\n",
    "ax.set_xlabel(\"Years\")\n",
    "ax.set_ylabel(\"Number of Votes\")\n",
    "ax.set_title(\"Assignment 3(Easiest): Blue = below , White = in , Red = Over\")\n",
    "ax.tick_params(axis=\"y\", colors = \"green\")\n",
    "ax.tick_params(axis=\"x\", colors = \"green\")\n",
    "ax.axhline(y = userInp, color ='g')\n",
    "\n",
    "barColors = []\n",
    "for confRange in myRanges:\n",
    "    if confRange[1] > userInp:\n",
    "        barColors.append('red')\n",
    "    elif confRange[0] < userInp:\n",
    "        barColors.append('blue')\n",
    "    else:\n",
    "        barColors.append('white')\n",
    "\n",
    "myData = ax.bar(y_pos, values, yerr=conf95, alpha = .65, edgecolor ='black', linewidth = 3, color = barColors)\n",
    "plt.show()\n"
   ]
  },
  {
   "cell_type": "code",
   "execution_count": null,
   "metadata": {
    "collapsed": true
   },
   "outputs": [],
   "source": []
  }
 ],
 "metadata": {
  "kernelspec": {
   "display_name": "Python 3",
   "language": "python",
   "name": "python3"
  },
  "language_info": {
   "codemirror_mode": {
    "name": "ipython",
    "version": 3
   },
   "file_extension": ".py",
   "mimetype": "text/x-python",
   "name": "python",
   "nbconvert_exporter": "python",
   "pygments_lexer": "ipython3",
   "version": "3.6.1"
  }
 },
 "nbformat": 4,
 "nbformat_minor": 2
}
